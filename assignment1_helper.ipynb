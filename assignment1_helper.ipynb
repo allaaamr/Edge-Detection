{
  "cells": [
    {
      "cell_type": "markdown",
      "metadata": {
        "id": "i4caviAJVnO2"
      },
      "source": [
        "# **- Starter Code**"
      ]
    },
    {
      "cell_type": "code",
      "execution_count": 1,
      "metadata": {
        "id": "t1zbe5C1Vhx6"
      },
      "outputs": [],
      "source": [
        "#Starter Code\n",
        "import matplotlib.pyplot as plt\n",
        "from PIL import Image\n",
        "import matplotlib "
      ]
    },
    {
      "cell_type": "markdown",
      "metadata": {
        "id": "0iL7wAuPX_4N"
      },
      "source": [
        "# **- Given Functions**"
      ]
    },
    {
      "cell_type": "code",
      "execution_count": 2,
      "metadata": {
        "id": "PyPe_kkrX-9_"
      },
      "outputs": [],
      "source": [
        "#Function 1: Given an image, returns the image and it's squared version in array format\n",
        "def toArrayAndSquare(im):\n",
        "  img = [[0 for x in range(im.size[0])] for y in range(im.size[1])]\n",
        "  sqr = [[0 for x in range(im.size[0])] for y in range(im.size[1])]\n",
        "  for i in range (0,im.size[0]):\n",
        "    for j in range (0,im.size[1]):\n",
        "      img[j][i] = im.getpixel((i,j))\n",
        "      sqr[j][i] = img[j][i] ** 2\n",
        "  return img,sqr\n",
        "\n",
        "#Function 2: Given an image, applies a certain threshold\n",
        "def applyThreshold (im, th):\n",
        "  res = [[0 for x in range(len(im[0]))] for y in range(len(im))]\n",
        "  for i in range (0,len(im)):\n",
        "    for j in range (0,len(im[0])):\n",
        "      if(im[i][j]<th):\n",
        "        res[i][j] = 0\n",
        "      else:\n",
        "        res[i][j] = 255\n",
        "  return res"
      ]
    },
    {
      "cell_type": "markdown",
      "metadata": {},
      "source": [
        "# **Task 2**"
      ]
    },
    {
      "cell_type": "code",
      "execution_count": 6,
      "metadata": {},
      "outputs": [],
      "source": [
        "def integralArray(img):\n",
        "    rows, columns = len(img), len(img[0])\n",
        "    s = [ [ 0 for y in range(columns) ] for x in range(rows) ]\n",
        "    integral_image = [ [ 0 for y in range(columns) ] for x in range(rows) ]\n",
        "    # calculating s matrix\n",
        "    for i in range(0, rows):\n",
        "        sum = 0\n",
        "        for j in range(0, columns):\n",
        "            sum += img[i][j]\n",
        "            s[i][j] = sum\n",
        "    # calculating integral matrix\n",
        "    for i in range(0, rows):\n",
        "        for j in range(0, columns):\n",
        "            if (i == 0):\n",
        "                integral_image[i][j] = s[i][j]\n",
        "            else:\n",
        "                integral_image[i][j] = integral_image[i][j-1] + s[i][j]\n",
        "    return integral_image            "
      ]
    },
    {
      "cell_type": "code",
      "execution_count": null,
      "metadata": {},
      "outputs": [],
      "source": [
        "def localSum(integral, tL_i, tL_j, bR_i, bR_j):\n",
        "    upper_sum = 0\n",
        "    left_sum =  0\n",
        "    if (tL_i > 0):\n",
        "        upper_sum = integral[tL_i-1][bR_j]\n",
        "    if (tL_j > 0):\n",
        "        left_sum =  integral[bR_i][tL_j-1]   \n",
        "    return integral[bR_i][bR_j] - upper_sum - left_sum + integral[0][0]\n"
      ]
    },
    {
      "cell_type": "code",
      "execution_count": 7,
      "metadata": {},
      "outputs": [
        {
          "ename": "TypeError",
          "evalue": "'module' object is not callable",
          "output_type": "error",
          "traceback": [
            "\u001b[0;31m---------------------------------------------------------------------------\u001b[0m",
            "\u001b[0;31mTypeError\u001b[0m                                 Traceback (most recent call last)",
            "\u001b[1;32m/Users/alaaabdelazeem/Desktop/Uni/Sem9/CV/Asg 1/assignment1_helper.ipynb Cell 7'\u001b[0m in \u001b[0;36m<cell line: 1>\u001b[0;34m()\u001b[0m\n\u001b[0;32m----> <a href='vscode-notebook-cell:/Users/alaaabdelazeem/Desktop/Uni/Sem9/CV/Asg%201/assignment1_helper.ipynb#ch0000009?line=0'>1</a>\u001b[0m image1 \u001b[39m=\u001b[39m Image(\u001b[39m\"\u001b[39;49m\u001b[39msample_image.jpg\u001b[39;49m\u001b[39m\"\u001b[39;49m)\n\u001b[1;32m      <a href='vscode-notebook-cell:/Users/alaaabdelazeem/Desktop/Uni/Sem9/CV/Asg%201/assignment1_helper.ipynb#ch0000009?line=1'>2</a>\u001b[0m img,sqr \u001b[39m=\u001b[39m toArrayAndSquare(image1)\n\u001b[1;32m      <a href='vscode-notebook-cell:/Users/alaaabdelazeem/Desktop/Uni/Sem9/CV/Asg%201/assignment1_helper.ipynb#ch0000009?line=2'>3</a>\u001b[0m integralArray \u001b[39m=\u001b[39m integralArray(img)\n",
            "\u001b[0;31mTypeError\u001b[0m: 'module' object is not callable"
          ]
        }
      ],
      "source": [
        "image1 = Image(\"sample_image.jpg\")\n",
        "img,sqr = toArrayAndSquare(image1)\n",
        "integralArray = integralArray(img)\n",
        "print(integralArray)"
      ]
    },
    {
      "cell_type": "markdown",
      "metadata": {
        "id": "j5W_QDHNY_vb"
      },
      "source": [
        "# **Plotting 6 images in a 3x2 bounding box in gray-scale mode**"
      ]
    },
    {
      "cell_type": "code",
      "execution_count": 4,
      "metadata": {
        "id": "agYonWftZFMl"
      },
      "outputs": [
        {
          "ename": "TypeError",
          "evalue": "'module' object is not callable",
          "output_type": "error",
          "traceback": [
            "\u001b[0;31m---------------------------------------------------------------------------\u001b[0m",
            "\u001b[0;31mTypeError\u001b[0m                                 Traceback (most recent call last)",
            "\u001b[1;32m/Users/alaaabdelazeem/Desktop/Uni/Sem9/CV/Asg 1/assignment1_helper.ipynb Cell 6'\u001b[0m in \u001b[0;36m<cell line: 2>\u001b[0;34m()\u001b[0m\n\u001b[1;32m      <a href='vscode-notebook-cell:/Users/alaaabdelazeem/Desktop/Uni/Sem9/CV/Asg%201/assignment1_helper.ipynb#ch0000006?line=0'>1</a>\u001b[0m \u001b[39m#plt has to be imported, see the previous sections\u001b[39;00m\n\u001b[0;32m----> <a href='vscode-notebook-cell:/Users/alaaabdelazeem/Desktop/Uni/Sem9/CV/Asg%201/assignment1_helper.ipynb#ch0000006?line=1'>2</a>\u001b[0m image1 \u001b[39m=\u001b[39m Image(\u001b[39m\"\u001b[39;49m\u001b[39msample_image.jpg\u001b[39;49m\u001b[39m\"\u001b[39;49m)\n\u001b[1;32m      <a href='vscode-notebook-cell:/Users/alaaabdelazeem/Desktop/Uni/Sem9/CV/Asg%201/assignment1_helper.ipynb#ch0000006?line=2'>3</a>\u001b[0m plt\u001b[39m.\u001b[39msubplots(nrows\u001b[39m=\u001b[39m\u001b[39m3\u001b[39m, ncols\u001b[39m=\u001b[39m\u001b[39m2\u001b[39m, figsize\u001b[39m=\u001b[39m(\u001b[39m25\u001b[39m, \u001b[39m25\u001b[39m))\n\u001b[1;32m      <a href='vscode-notebook-cell:/Users/alaaabdelazeem/Desktop/Uni/Sem9/CV/Asg%201/assignment1_helper.ipynb#ch0000006?line=4'>5</a>\u001b[0m plt\u001b[39m.\u001b[39msubplot(\u001b[39m3\u001b[39m,\u001b[39m2\u001b[39m,\u001b[39m1\u001b[39m)\n",
            "\u001b[0;31mTypeError\u001b[0m: 'module' object is not callable"
          ]
        }
      ],
      "source": [
        "\n",
        "#plt has to be imported, see the previous sections\n",
        "image1 = Image(\"sample_image.jpg\")\n",
        "plt.subplots(nrows=3, ncols=2, figsize=(25, 25))\n",
        "\n",
        "plt.subplot(3,2,1)\n",
        "plt.imshow(image1,  cmap = 'gray')\n",
        "\n",
        "plt.subplot(3,2,2)\n",
        "plt.imshow(image2,  cmap = 'gray')\n",
        "\n",
        "plt.subplot(3,2,3)\n",
        "plt.imshow(image3,  cmap = 'gray')\n",
        "\n",
        "plt.subplot(3,2,4)\n",
        "plt.imshow(image4,  cmap = 'gray')\n",
        "\n",
        "plt.subplot(3,2,5)\n",
        "plt.imshow(image5,  cmap = 'gray')\n",
        "\n",
        "plt.subplot(3,2,6)\n",
        "plt.imshow(image6,  cmap = 'gray')"
      ]
    }
  ],
  "metadata": {
    "colab": {
      "collapsed_sections": [],
      "provenance": []
    },
    "interpreter": {
      "hash": "94c0416a27a2be01afabedcc7d3b1cabbfb61c096f1ad2556824fef78ff764d6"
    },
    "kernelspec": {
      "display_name": "Python 3.9.12",
      "language": "python",
      "name": "python3"
    },
    "language_info": {
      "codemirror_mode": {
        "name": "ipython",
        "version": 3
      },
      "file_extension": ".py",
      "mimetype": "text/x-python",
      "name": "python",
      "nbconvert_exporter": "python",
      "pygments_lexer": "ipython3",
      "version": "3.9.12"
    }
  },
  "nbformat": 4,
  "nbformat_minor": 0
}
